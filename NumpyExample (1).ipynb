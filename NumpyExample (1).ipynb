{
  "nbformat": 4,
  "nbformat_minor": 0,
  "metadata": {
    "colab": {
      "provenance": []
    },
    "kernelspec": {
      "name": "python3",
      "display_name": "Python 3"
    },
    "language_info": {
      "name": "python"
    }
  },
  "cells": [
    {
      "cell_type": "code",
      "execution_count": 1,
      "metadata": {
        "id": "dm51Mrg02kpV"
      },
      "outputs": [],
      "source": [
        "import numpy as np"
      ]
    },
    {
      "cell_type": "code",
      "source": [
        "# two dimension array"
      ],
      "metadata": {
        "id": "jmEEF2Dq3Ifo"
      },
      "execution_count": null,
      "outputs": []
    },
    {
      "cell_type": "code",
      "source": [
        "mat = np.array([[1,2,3],[4,5,6],[8,9,10],[11,12,14]])\n",
        "print(mat)"
      ],
      "metadata": {
        "colab": {
          "base_uri": "https://localhost:8080/"
        },
        "id": "86alXTlW3QAb",
        "outputId": "9ef2f663-a425-4c81-aa41-af324d69939d"
      },
      "execution_count": 2,
      "outputs": [
        {
          "output_type": "stream",
          "name": "stdout",
          "text": [
            "[[ 1  2  3]\n",
            " [ 4  5  6]\n",
            " [ 8  9 10]\n",
            " [11 12 14]]\n"
          ]
        }
      ]
    },
    {
      "cell_type": "code",
      "source": [
        "print(\"shape of array\",mat.shape)\n",
        "print(\"dimension of array\",mat.ndim)"
      ],
      "metadata": {
        "colab": {
          "base_uri": "https://localhost:8080/"
        },
        "id": "PQ4kOAG03tUT",
        "outputId": "6235b627-6430-4f52-d0b4-ee6b4f6e3964"
      },
      "execution_count": 4,
      "outputs": [
        {
          "output_type": "stream",
          "name": "stdout",
          "text": [
            "shape of array (4, 3)\n",
            "dimension of array 2\n"
          ]
        }
      ]
    },
    {
      "cell_type": "code",
      "source": [
        "# access element from 2 dim  arrayname[rowindex][columnindex]\n",
        "row =int(input(\"enter row index\"))\n",
        "col=int(input(\"enter col index\"))\n",
        "v=mat[row][col]\n",
        "print(\"value at index\",v)"
      ],
      "metadata": {
        "colab": {
          "base_uri": "https://localhost:8080/"
        },
        "id": "Y2XCsNp337id",
        "outputId": "fceae684-f63f-4aca-e9b5-e057f50ee2c7"
      },
      "execution_count": 9,
      "outputs": [
        {
          "output_type": "stream",
          "name": "stdout",
          "text": [
            "enter row index1\n",
            "enter col index1\n",
            "value at index 5\n"
          ]
        }
      ]
    },
    {
      "cell_type": "code",
      "source": [
        "# update value at given index arrayname[rowindex][columindex]=value\n",
        "row =int(input(\"enter row index\"))\n",
        "col=int(input(\"enter col index\"))\n",
        "newvalue=int(input(\"enter new value for given index\"))\n",
        "print(\"Matrix before update\",mat)\n",
        "mat[row][col]=newvalue\n",
        "print(\"Matrix after update\",mat)"
      ],
      "metadata": {
        "colab": {
          "base_uri": "https://localhost:8080/"
        },
        "id": "uHtTTx8I4q2-",
        "outputId": "3269bf73-382d-4b86-d1d9-8899e4dc1f03"
      },
      "execution_count": 13,
      "outputs": [
        {
          "output_type": "stream",
          "name": "stdout",
          "text": [
            "enter row index2\n",
            "enter col index2\n",
            "enter new value for given index55\n",
            "Matrix before update [[100   2   3]\n",
            " [  4   5   6]\n",
            " [  8   9  10]\n",
            " [ 11  12 500]]\n",
            "Matrix after update [[100   2   3]\n",
            " [  4   5   6]\n",
            " [  8   9  55]\n",
            " [ 11  12 500]]\n"
          ]
        }
      ]
    },
    {
      "cell_type": "code",
      "source": [
        "#zeros(shape) Return a new array of given shape and type, filled with zeros.\n",
        "z=np.zeros((4,4))\n",
        "print(\"zero matrix\")\n",
        "print"
      ],
      "metadata": {
        "colab": {
          "base_uri": "https://localhost:8080/"
        },
        "id": "kPe3Fiaw5jR_",
        "outputId": "09633c58-4ebc-4f94-f2b6-7c1da59cf1f4"
      },
      "execution_count": 14,
      "outputs": [
        {
          "output_type": "stream",
          "name": "stdout",
          "text": [
            "zero matrix\n",
            "[[0. 0. 0. 0.]\n",
            " [0. 0. 0. 0.]\n",
            " [0. 0. 0. 0.]\n",
            " [0. 0. 0. 0.]]\n"
          ]
        }
      ]
    },
    {
      "cell_type": "code",
      "source": [
        "print(z.dtype)"
      ],
      "metadata": {
        "colab": {
          "base_uri": "https://localhost:8080/"
        },
        "id": "3vi0m5F06R7O",
        "outputId": "3a97fe2a-89af-4c51-f4b0-781422607399"
      },
      "execution_count": 15,
      "outputs": [
        {
          "output_type": "stream",
          "name": "stdout",
          "text": [
            "float64\n"
          ]
        }
      ]
    },
    {
      "cell_type": "code",
      "source": [
        "z=np.zeros((4,4),dtype=np.int32)\n",
        "print(\"zero matrix\")\n",
        "print(z)"
      ],
      "metadata": {
        "colab": {
          "base_uri": "https://localhost:8080/"
        },
        "id": "zuGsXYIS6XVQ",
        "outputId": "b7dfce14-fa3c-423a-91ce-3baf4265bd4b"
      },
      "execution_count": 16,
      "outputs": [
        {
          "output_type": "stream",
          "name": "stdout",
          "text": [
            "zero matrix\n",
            "[[0 0 0 0]\n",
            " [0 0 0 0]\n",
            " [0 0 0 0]\n",
            " [0 0 0 0]]\n"
          ]
        }
      ]
    },
    {
      "cell_type": "code",
      "source": [
        "# ones(shape,dtype) Return a new array of given shape and type, filled with ones\n",
        "o=np.ones((3,3),dtype=np.int64)\n",
        "print(\"Ones matrix is\")\n",
        "print(o)"
      ],
      "metadata": {
        "colab": {
          "base_uri": "https://localhost:8080/"
        },
        "id": "JtIhZKrq6g54",
        "outputId": "0252933a-cb25-4b43-cfe8-7865a90a49c9"
      },
      "execution_count": 17,
      "outputs": [
        {
          "output_type": "stream",
          "name": "stdout",
          "text": [
            "Ones matrix is\n",
            "[[1 1 1]\n",
            " [1 1 1]\n",
            " [1 1 1]]\n"
          ]
        }
      ]
    },
    {
      "cell_type": "code",
      "source": [
        "n=int(input(\"enter number to fill array\"))\n",
        "o=np.ones((3,3),dtype=np.int64)\n",
        "print(\" matrix filled with\",n)\n",
        "print(o*n)"
      ],
      "metadata": {
        "colab": {
          "base_uri": "https://localhost:8080/"
        },
        "id": "EW4cSWLK61vm",
        "outputId": "bae34672-e27a-44a3-bcbe-2805bb0a1fbf"
      },
      "execution_count": 19,
      "outputs": [
        {
          "output_type": "stream",
          "name": "stdout",
          "text": [
            "enter number to fill array33\n",
            " matrix filled with 33\n",
            "[[33 33 33]\n",
            " [33 33 33]\n",
            " [33 33 33]]\n"
          ]
        }
      ]
    },
    {
      "cell_type": "code",
      "source": [
        "#full(shape,fillvalue,dtpe) Return a new array of given shape and type, filled with fill_value.\n",
        "n=int(input(\"enter number to fill array\"))\n",
        "fullmat=np.full((5,5),n)\n",
        "print(\" matrix filled with\",n)\n",
        "print(fullmat)"
      ],
      "metadata": {
        "colab": {
          "base_uri": "https://localhost:8080/"
        },
        "id": "b15jSRzp7FVM",
        "outputId": "e58efabf-c21e-4d79-e5e1-cfd51c0fce14"
      },
      "execution_count": 21,
      "outputs": [
        {
          "output_type": "stream",
          "name": "stdout",
          "text": [
            "enter number to fill array20\n",
            " matrix filled with 20\n",
            "[[20 20 20 20 20]\n",
            " [20 20 20 20 20]\n",
            " [20 20 20 20 20]\n",
            " [20 20 20 20 20]\n",
            " [20 20 20 20 20]]\n"
          ]
        }
      ]
    },
    {
      "cell_type": "code",
      "source": [
        "n=float(input(\"enter number to fill array\"))\n",
        "fullmat=np.full((5,5),n,dtype=np.float32)\n",
        "print(\" matrix filled with\",n)\n",
        "print(fullmat)"
      ],
      "metadata": {
        "colab": {
          "base_uri": "https://localhost:8080/"
        },
        "id": "WBduBU-67f-7",
        "outputId": "1d1717fa-4796-4b4e-b314-faaf1b692ae6"
      },
      "execution_count": 24,
      "outputs": [
        {
          "output_type": "stream",
          "name": "stdout",
          "text": [
            "enter number to fill array10\n",
            " matrix filled with 10.0\n",
            "[[10. 10. 10. 10. 10.]\n",
            " [10. 10. 10. 10. 10.]\n",
            " [10. 10. 10. 10. 10.]\n",
            " [10. 10. 10. 10. 10.]\n",
            " [10. 10. 10. 10. 10.]]\n"
          ]
        }
      ]
    },
    {
      "cell_type": "code",
      "source": [
        "# empty(shape,dtype) Return a new array of given shape and type, without initializing entries.\n",
        "e=np.empty((4,3))\n",
        "print(e)"
      ],
      "metadata": {
        "colab": {
          "base_uri": "https://localhost:8080/"
        },
        "id": "wYOs5IP77ulz",
        "outputId": "cb83282f-ce68-49fc-fa97-fb1d1f5ea550"
      },
      "execution_count": 28,
      "outputs": [
        {
          "output_type": "stream",
          "name": "stdout",
          "text": [
            "[[1.92918485e-316 0.00000000e+000 0.00000000e+000]\n",
            " [0.00000000e+000 0.00000000e+000 0.00000000e+000]\n",
            " [0.00000000e+000 0.00000000e+000 0.00000000e+000]\n",
            " [0.00000000e+000 0.00000000e+000 0.00000000e+000]]\n"
          ]
        }
      ]
    },
    {
      "cell_type": "code",
      "source": [
        "# randomvalue  random.random(shape,dtype) Return random floats in the half-open interval [0.0, 1.0). Alias for\n",
        "randmat =np.random.random((3,3))\n",
        "print(\"random array\")\n",
        "print(randmat)"
      ],
      "metadata": {
        "colab": {
          "base_uri": "https://localhost:8080/"
        },
        "id": "5colq9ZEBCzx",
        "outputId": "9866f70d-aa0f-4313-f9a8-537f5645ac74"
      },
      "execution_count": 30,
      "outputs": [
        {
          "output_type": "stream",
          "name": "stdout",
          "text": [
            "random array\n",
            "[[0.12759371 0.701991   0.53835315]\n",
            " [0.32401302 0.74021638 0.72705727]\n",
            " [0.64634508 0.16014494 0.62189875]]\n"
          ]
        }
      ]
    },
    {
      "cell_type": "code",
      "source": [
        "# randint(low,high,shape,dtype)\n",
        "randmatint = np.random.randint(10,50,(3,3))\n",
        "print(\"random integer array \")\n",
        "print(randmatint)"
      ],
      "metadata": {
        "colab": {
          "base_uri": "https://localhost:8080/"
        },
        "id": "PicI8YBJBjJH",
        "outputId": "6548ff79-7fb0-451a-e7d8-f0a915e4086a"
      },
      "execution_count": 32,
      "outputs": [
        {
          "output_type": "stream",
          "name": "stdout",
          "text": [
            "random integer array \n",
            "[[10 14 11]\n",
            " [20 34 24]\n",
            " [31 28 41]]\n"
          ]
        }
      ]
    },
    {
      "cell_type": "code",
      "source": [
        "# identical matrix Return the identity array.\n",
        "\n",
        "#The identity array is a square array with ones on the main diagonal.\n",
        "idmat=np.identity(4,dtype=np.int64)\n",
        "print(\"identity matrix \\n\",idmat)"
      ],
      "metadata": {
        "colab": {
          "base_uri": "https://localhost:8080/"
        },
        "id": "9vWLzpXFB_lj",
        "outputId": "460b4d2d-931e-425e-eaed-b0bb2315ed8a"
      },
      "execution_count": 34,
      "outputs": [
        {
          "output_type": "stream",
          "name": "stdout",
          "text": [
            "identity matrix \n",
            " [[1 0 0 0]\n",
            " [0 1 0 0]\n",
            " [0 0 1 0]\n",
            " [0 0 0 1]]\n"
          ]
        }
      ]
    },
    {
      "cell_type": "code",
      "source": [
        "# eye(row,col,k,dtype) Return a 2-D array with ones on the diagonal and z\n",
        "e=np.eye(3)\n",
        "print('identity matrix \\n',e)"
      ],
      "metadata": {
        "colab": {
          "base_uri": "https://localhost:8080/"
        },
        "id": "lJaBs1huCx34",
        "outputId": "4363e523-d19f-4aba-cfc6-bda498df1fe1"
      },
      "execution_count": 35,
      "outputs": [
        {
          "output_type": "stream",
          "name": "stdout",
          "text": [
            "identity matrix \n",
            " [[1. 0. 0.]\n",
            " [0. 1. 0.]\n",
            " [0. 0. 1.]]\n"
          ]
        }
      ]
    },
    {
      "cell_type": "code",
      "source": [
        "e=np.eye(3,4,k=0)  # k = +ve fill upper diagonal element with 1 and -ve fill lower digonal with 1\n",
        "print('identity matrix \\n',e)"
      ],
      "metadata": {
        "colab": {
          "base_uri": "https://localhost:8080/"
        },
        "id": "AUCt3L6vDO9B",
        "outputId": "beb70624-0f4e-4011-c061-9031f3456e5d"
      },
      "execution_count": 41,
      "outputs": [
        {
          "output_type": "stream",
          "name": "stdout",
          "text": [
            "identity matrix \n",
            " [[1. 0. 0. 0.]\n",
            " [0. 1. 0. 0.]\n",
            " [0. 0. 1. 0.]]\n"
          ]
        }
      ]
    },
    {
      "cell_type": "code",
      "source": [
        "mat"
      ],
      "metadata": {
        "colab": {
          "base_uri": "https://localhost:8080/"
        },
        "id": "Z4l3QDwgDn4T",
        "outputId": "20ecf161-02d1-49e4-e210-7d9549968182"
      },
      "execution_count": 42,
      "outputs": [
        {
          "output_type": "execute_result",
          "data": {
            "text/plain": [
              "array([[100,   2,   3],\n",
              "       [  4,   5,   6],\n",
              "       [  8,   9,  55],\n",
              "       [ 11,  12, 500]])"
            ]
          },
          "metadata": {},
          "execution_count": 42
        }
      ]
    },
    {
      "cell_type": "code",
      "source": [
        "# transpose matrix - convert  rows in columns and columns in rows\n",
        "# transpose(axes)  Returns a view of the array with axes transposed\n",
        "mattrans=mat.transpose()\n",
        "print(\"transpose matrix \\n\",mattrans)"
      ],
      "metadata": {
        "colab": {
          "base_uri": "https://localhost:8080/"
        },
        "id": "c-30FH3oEGou",
        "outputId": "bff84f9f-548c-4d6e-c3d7-8feec512b48a"
      },
      "execution_count": 43,
      "outputs": [
        {
          "output_type": "stream",
          "name": "stdout",
          "text": [
            "transpose matrix \n",
            " [[100   4   8  11]\n",
            " [  2   5   9  12]\n",
            " [  3   6  55 500]]\n"
          ]
        }
      ]
    },
    {
      "cell_type": "code",
      "source": [
        "# transpose\n",
        "mattrans1=mat.T\n",
        "print(\"transpose matrix \\n\",mattrans1)"
      ],
      "metadata": {
        "colab": {
          "base_uri": "https://localhost:8080/"
        },
        "id": "kgt-WkkZEhOd",
        "outputId": "d60e36d2-26dc-48e0-8839-662878ccdafc"
      },
      "execution_count": 44,
      "outputs": [
        {
          "output_type": "stream",
          "name": "stdout",
          "text": [
            "transpose matrix \n",
            " [[100   4   8  11]\n",
            " [  2   5   9  12]\n",
            " [  3   6  55 500]]\n"
          ]
        }
      ]
    },
    {
      "cell_type": "code",
      "source": [
        "# resize and reshape array"
      ],
      "metadata": {
        "id": "mqTw7M_CEx6Z"
      },
      "execution_count": 45,
      "outputs": []
    },
    {
      "cell_type": "code",
      "source": [
        "mat"
      ],
      "metadata": {
        "colab": {
          "base_uri": "https://localhost:8080/"
        },
        "id": "TcCOKuwkJst8",
        "outputId": "0e5d04df-67fe-4749-c49c-88086e26fe58"
      },
      "execution_count": 46,
      "outputs": [
        {
          "output_type": "execute_result",
          "data": {
            "text/plain": [
              "array([[100,   2,   3],\n",
              "       [  4,   5,   6],\n",
              "       [  8,   9,  55],\n",
              "       [ 11,  12, 500]])"
            ]
          },
          "metadata": {},
          "execution_count": 46
        }
      ]
    },
    {
      "cell_type": "code",
      "source": [
        "# mat -(4,3)  total element =12  - (3,4),(12,1),(1,12),(6,2),(2,6)\n",
        "# reshape(new shape ) new shape should have same total number of elements as original array\n",
        "# Returns an array containing the same data with a new shape.\n",
        "# new array , original array remain unchanges\n",
        "rarray=mat.reshape((2,6))\n",
        "print(\"Array after reshape \\n\",rarray)"
      ],
      "metadata": {
        "colab": {
          "base_uri": "https://localhost:8080/"
        },
        "id": "EKxr-bVEJuYZ",
        "outputId": "d2410ba7-aff5-44fb-81a0-84a64657321f"
      },
      "execution_count": 47,
      "outputs": [
        {
          "output_type": "stream",
          "name": "stdout",
          "text": [
            "Array after reshape \n",
            " [[100   2   3   4   5   6]\n",
            " [  8   9  55  11  12 500]]\n"
          ]
        }
      ]
    },
    {
      "cell_type": "code",
      "source": [
        "rarray=mat.reshape((12,1))\n",
        "print(\"Array after reshape \\n\",rarray)\n",
        "print(rarray.ndim)"
      ],
      "metadata": {
        "colab": {
          "base_uri": "https://localhost:8080/"
        },
        "id": "Tb6uqYLGKhJh",
        "outputId": "36e47e34-74f0-4dde-f080-f3c0682b5419"
      },
      "execution_count": 51,
      "outputs": [
        {
          "output_type": "stream",
          "name": "stdout",
          "text": [
            "Array after reshape \n",
            " [[100]\n",
            " [  2]\n",
            " [  3]\n",
            " [  4]\n",
            " [  5]\n",
            " [  6]\n",
            " [  8]\n",
            " [  9]\n",
            " [ 55]\n",
            " [ 11]\n",
            " [ 12]\n",
            " [500]]\n",
            "2\n"
          ]
        }
      ]
    },
    {
      "cell_type": "code",
      "source": [
        "# 8 * 8  = 64\n",
        "# 12 *12 = 144\n",
        "mat"
      ],
      "metadata": {
        "colab": {
          "base_uri": "https://localhost:8080/"
        },
        "id": "QqoGdOUdKlsv",
        "outputId": "910b0a86-4664-4062-fce3-6fa60da8b401"
      },
      "execution_count": 52,
      "outputs": [
        {
          "output_type": "execute_result",
          "data": {
            "text/plain": [
              "array([[100,   2,   3],\n",
              "       [  4,   5,   6],\n",
              "       [  8,   9,  55],\n",
              "       [ 11,  12, 500]])"
            ]
          },
          "metadata": {},
          "execution_count": 52
        }
      ]
    },
    {
      "cell_type": "code",
      "source": [
        "rarray2=mat.reshape((1,-1)) # -ve value means we will have same number of columns as size of array\n",
        "print(\"Rehape array \\n\",rarray2 )\n"
      ],
      "metadata": {
        "colab": {
          "base_uri": "https://localhost:8080/"
        },
        "id": "Q4Zkj_hMKrzs",
        "outputId": "c128e8ae-8f78-42ec-a9ca-720676ea617b"
      },
      "execution_count": 56,
      "outputs": [
        {
          "output_type": "stream",
          "name": "stdout",
          "text": [
            "Rehape array \n",
            " [[100   2   3   4   5   6   8   9  55  11  12 500]]\n"
          ]
        }
      ]
    },
    {
      "cell_type": "code",
      "source": [
        "rarray3=mat.reshape((-1,1)) # -ve value means we will have same number of rows as size of array\n",
        "print(\"Rehape array \\n\",rarray3 )\n"
      ],
      "metadata": {
        "colab": {
          "base_uri": "https://localhost:8080/"
        },
        "id": "8NjhpTdFMrx7",
        "outputId": "2bfd3196-fdee-45dc-85f9-220aede6c81b"
      },
      "execution_count": 57,
      "outputs": [
        {
          "output_type": "stream",
          "name": "stdout",
          "text": [
            "Rehape array \n",
            " [[100]\n",
            " [  2]\n",
            " [  3]\n",
            " [  4]\n",
            " [  5]\n",
            " [  6]\n",
            " [  8]\n",
            " [  9]\n",
            " [ 55]\n",
            " [ 11]\n",
            " [ 12]\n",
            " [500]]\n"
          ]
        }
      ]
    },
    {
      "cell_type": "markdown",
      "source": [],
      "metadata": {
        "id": "a0ewUmm8Nd2k"
      }
    },
    {
      "cell_type": "code",
      "source": [
        "mat"
      ],
      "metadata": {
        "colab": {
          "base_uri": "https://localhost:8080/"
        },
        "id": "Fj2U6OxIM78B",
        "outputId": "26fa62d6-430b-4d12-c5bb-181732fe70a0"
      },
      "execution_count": 58,
      "outputs": [
        {
          "output_type": "execute_result",
          "data": {
            "text/plain": [
              "array([[100,   2,   3],\n",
              "       [  4,   5,   6],\n",
              "       [  8,   9,  55],\n",
              "       [ 11,  12, 500]])"
            ]
          },
          "metadata": {},
          "execution_count": 58
        }
      ]
    },
    {
      "cell_type": "code",
      "source": [
        "# np.resize(arrayname,new shape) Return a new array with the specified shape.\n",
        "#If the new array is larger than the original array, then the new\n",
        "# array is filled with repeated copies of a\n",
        "rsizearr=np.resize(mat,(6,6))\n",
        "print(\"resize array \\n\",rsizearr)"
      ],
      "metadata": {
        "colab": {
          "base_uri": "https://localhost:8080/"
        },
        "id": "P0gKMtkiNX_W",
        "outputId": "957b4d61-1058-4cb9-88ac-9be55cfd6792"
      },
      "execution_count": 60,
      "outputs": [
        {
          "output_type": "stream",
          "name": "stdout",
          "text": [
            "resize array \n",
            " [[100   2   3   4   5   6]\n",
            " [  8   9  55  11  12 500]\n",
            " [100   2   3   4   5   6]\n",
            " [  8   9  55  11  12 500]\n",
            " [100   2   3   4   5   6]\n",
            " [  8   9  55  11  12 500]]\n"
          ]
        }
      ]
    },
    {
      "cell_type": "code",
      "source": [
        "rsizearr1=np.resize(mat,(2,2))\n",
        "print(\"resize array \\n\",rsizearr1)"
      ],
      "metadata": {
        "colab": {
          "base_uri": "https://localhost:8080/"
        },
        "id": "8yu3spTRNrzS",
        "outputId": "275e1b7e-45d2-402c-babd-07b32c2975af"
      },
      "execution_count": 61,
      "outputs": [
        {
          "output_type": "stream",
          "name": "stdout",
          "text": [
            "resize array \n",
            " [[100   2]\n",
            " [  3   4]]\n"
          ]
        }
      ]
    },
    {
      "cell_type": "code",
      "source": [
        "#Return a contiguous flattened array.\n",
        "\n",
        "# A 1-D array, containing the elements of the input, is returne\n",
        "revarray=np.ravel(mat)\n",
        "print(\"flatten array \\n\",revarray)\n",
        "print(\"dimension of flatten array\",revarray.ndim)"
      ],
      "metadata": {
        "colab": {
          "base_uri": "https://localhost:8080/"
        },
        "id": "8dEENP-CN6s3",
        "outputId": "6639b70d-620a-4567-f1c3-83fe6dfc835f"
      },
      "execution_count": 64,
      "outputs": [
        {
          "output_type": "stream",
          "name": "stdout",
          "text": [
            "flatten array \n",
            " [100   2   3   4   5   6   8   9  55  11  12 500]\n",
            "dimension of flatten array 1\n"
          ]
        }
      ]
    },
    {
      "cell_type": "code",
      "source": [
        "# running vertically downwards across rows (axis 0), and the second running horizontally across columns (axis 1)."
      ],
      "metadata": {
        "id": "Zm5T4AmxQ7iJ"
      },
      "execution_count": 65,
      "outputs": []
    },
    {
      "cell_type": "code",
      "source": [
        "arr=np.arange(10,20)  # arange(start=0,end,step=1) end is excluded\n",
        "print(arr)"
      ],
      "metadata": {
        "colab": {
          "base_uri": "https://localhost:8080/"
        },
        "id": "SGSEroHaX_JQ",
        "outputId": "952c0280-3eae-4ddd-cafb-17ee04e2ad06"
      },
      "execution_count": 66,
      "outputs": [
        {
          "output_type": "stream",
          "name": "stdout",
          "text": [
            "[10 11 12 13 14 15 16 17 18 19]\n"
          ]
        }
      ]
    },
    {
      "cell_type": "code",
      "source": [
        "arr=np.arange(10,100,10)  # arange(start=0,end,step=1) end is excluded\n",
        "print(arr)"
      ],
      "metadata": {
        "colab": {
          "base_uri": "https://localhost:8080/"
        },
        "id": "PU7JgXgCYT8l",
        "outputId": "23689894-7fe1-49e2-d799-6d7682eacc70"
      },
      "execution_count": 67,
      "outputs": [
        {
          "output_type": "stream",
          "name": "stdout",
          "text": [
            "[10 20 30 40 50 60 70 80 90]\n"
          ]
        }
      ]
    },
    {
      "cell_type": "code",
      "source": [
        "mat1 =arr.reshape((3,3))\n",
        "print(mat1)"
      ],
      "metadata": {
        "colab": {
          "base_uri": "https://localhost:8080/"
        },
        "id": "8qUP1kwGYZPL",
        "outputId": "b50bbba9-9674-4ece-eb63-8af5428db69e"
      },
      "execution_count": 68,
      "outputs": [
        {
          "output_type": "stream",
          "name": "stdout",
          "text": [
            "[[10 20 30]\n",
            " [40 50 60]\n",
            " [70 80 90]]\n"
          ]
        }
      ]
    },
    {
      "cell_type": "code",
      "source": [
        "print(\"sum of all elements of mat\",np.sum(mat1))\n",
        "print(\"max of all elements of mat\",np.max(mat1))\n",
        "print(\"min of all elements of mat\",np.min(mat1))\n",
        "print(\"mean of all elements of mat\",np.mean(mat1))\n",
        "print(\"cumulutive sum of all elements of mat\",np.cumsum(mat1))"
      ],
      "metadata": {
        "colab": {
          "base_uri": "https://localhost:8080/"
        },
        "id": "QXXFoFsJYp0l",
        "outputId": "11e54258-b1e2-4d7f-fdbf-c352c3beff52"
      },
      "execution_count": 71,
      "outputs": [
        {
          "output_type": "stream",
          "name": "stdout",
          "text": [
            "sum of all elements of mat 450\n",
            "max of all elements of mat 90\n",
            "min of all elements of mat 10\n",
            "mean of all elements of mat 50.0\n",
            "cumulutive sum of all elements of mat [ 10  30  60 100 150 210 280 360 450]\n"
          ]
        }
      ]
    },
    {
      "cell_type": "code",
      "source": [
        "print(\"sum of element of mat  across columns \",np.sum(mat1, axis=1))\n",
        "print(\"sum of elemements of mat across rows\",np.sum(mat1,axis=0))\n",
        "print(\"max of element of mat  across columns \",np.max(mat1, axis=1))\n",
        "print(\"max of elemements of mat across rows\",np.max(mat1,axis=0))\n",
        "print(\"min of element of mat  across columns \",np.min(mat1, axis=1))\n",
        "print(\"min of elemements of mat across rows\",np.min(mat1,axis=0))\n",
        "print(\"mean of element of mat  across columns \",np.mean(mat1, axis=1))\n",
        "print(\"mean of elemements of mat across rows\",np.mean(mat1,axis=0))\n"
      ],
      "metadata": {
        "colab": {
          "base_uri": "https://localhost:8080/"
        },
        "id": "GITXYLJIY10N",
        "outputId": "90004dfb-5a5b-4b80-970a-8c532ed12cd6"
      },
      "execution_count": 78,
      "outputs": [
        {
          "output_type": "stream",
          "name": "stdout",
          "text": [
            "sum of element of mat  across columns  [ 60 150 240]\n",
            "sum of elemements of mat across rows [120 150 180]\n",
            "max of element of mat  across columns  [30 60 90]\n",
            "max of elemements of mat across rows [70 80 90]\n",
            "min of element of mat  across columns  [10 40 70]\n",
            "min of elemements of mat across rows [10 20 30]\n",
            "mean of element of mat  across columns  [20. 50. 80.]\n",
            "mean of elemements of mat across rows [40. 50. 60.]\n"
          ]
        }
      ]
    },
    {
      "cell_type": "code",
      "source": [
        "mat1"
      ],
      "metadata": {
        "colab": {
          "base_uri": "https://localhost:8080/"
        },
        "id": "_M3ldvXMZktc",
        "outputId": "ab721a36-c631-4304-9fbe-94a544561b0e"
      },
      "execution_count": 79,
      "outputs": [
        {
          "output_type": "execute_result",
          "data": {
            "text/plain": [
              "array([[10, 20, 30],\n",
              "       [40, 50, 60],\n",
              "       [70, 80, 90]])"
            ]
          },
          "metadata": {},
          "execution_count": 79
        }
      ]
    },
    {
      "cell_type": "code",
      "source": [
        "mat2 =np.arange(10,55,5).reshape((3,3))\n",
        "print(mat2)"
      ],
      "metadata": {
        "colab": {
          "base_uri": "https://localhost:8080/"
        },
        "id": "FSqQppn8eL2f",
        "outputId": "9a04e43c-0290-439b-9af7-b73f6c0f8b84"
      },
      "execution_count": 81,
      "outputs": [
        {
          "output_type": "stream",
          "name": "stdout",
          "text": [
            "[[10 15 20]\n",
            " [25 30 35]\n",
            " [40 45 50]]\n"
          ]
        }
      ]
    },
    {
      "cell_type": "code",
      "source": [
        "print(\"sum of mat1 & mat 2 \\n\",mat1+mat2)\n",
        "print(\"sub of mat1 & mat 2 \\n\",mat1-mat2)\n",
        "print(\"mul of mat1 & mat 2 \\n\",mat1*mat2)\n",
        "print(\"div of mat1 & mat 2 \\n\",mat1/mat2)"
      ],
      "metadata": {
        "colab": {
          "base_uri": "https://localhost:8080/"
        },
        "id": "yVIxT5bgefmf",
        "outputId": "67878640-970b-432f-e432-81cd96aa3bc2"
      },
      "execution_count": 85,
      "outputs": [
        {
          "output_type": "stream",
          "name": "stdout",
          "text": [
            "sum of mat1 & mat 2 \n",
            " [[ 20  35  50]\n",
            " [ 65  80  95]\n",
            " [110 125 140]]\n",
            "sub of mat1 & mat 2 \n",
            " [[ 0  5 10]\n",
            " [15 20 25]\n",
            " [30 35 40]]\n",
            "mul of mat1 & mat 2 \n",
            " [[ 100  300  600]\n",
            " [1000 1500 2100]\n",
            " [2800 3600 4500]]\n",
            "div of mat1 & mat 2 \n",
            " [[1.         1.33333333 1.5       ]\n",
            " [1.6        1.66666667 1.71428571]\n",
            " [1.75       1.77777778 1.8       ]]\n"
          ]
        }
      ]
    },
    {
      "cell_type": "code",
      "source": [
        "print(\"natural log of mat1 \\n\",np.log(mat1))\n",
        "print(\"exponential  of mat1 \\n\",np.exp(mat1))\n",
        "print(\"sin value of mat1 \\n\",np.sin(mat1))  # value will be in radians\n",
        "asin =np.sin(mat1)\n",
        "print(\"sin inverse of mat1 \\n\",np.arcsin(asin))\n",
        "print(\"sin values in degrees \\n\",np.sin(mat1*np.pi/180))"
      ],
      "metadata": {
        "colab": {
          "base_uri": "https://localhost:8080/"
        },
        "id": "UWEiN7eKerKc",
        "outputId": "127ce522-0b07-43b7-cb1d-923529389b05"
      },
      "execution_count": 92,
      "outputs": [
        {
          "output_type": "stream",
          "name": "stdout",
          "text": [
            "natural log of mat1 \n",
            " [[2.30258509 2.99573227 3.40119738]\n",
            " [3.68887945 3.91202301 4.09434456]\n",
            " [4.24849524 4.38202663 4.49980967]]\n",
            "exponential  of mat1 \n",
            " [[2.20264658e+04 4.85165195e+08 1.06864746e+13]\n",
            " [2.35385267e+17 5.18470553e+21 1.14200739e+26]\n",
            " [2.51543867e+30 5.54062238e+34 1.22040329e+39]]\n",
            "sin value of mat1 \n",
            " [[-0.54402111  0.91294525 -0.98803162]\n",
            " [ 0.74511316 -0.26237485 -0.30481062]\n",
            " [ 0.77389068 -0.99388865  0.89399666]]\n",
            "sin inverse of mat1 \n",
            " [[-0.57522204  1.15044408 -1.41592654]\n",
            " [ 0.8407045  -0.26548246 -0.30973958]\n",
            " [ 0.88496162 -1.46018366  1.10618695]]\n",
            "sin values in degrees \n",
            " [[0.17364818 0.34202014 0.5       ]\n",
            " [0.64278761 0.76604444 0.8660254 ]\n",
            " [0.93969262 0.98480775 1.        ]]\n"
          ]
        }
      ]
    },
    {
      "cell_type": "code",
      "source": [
        "import matplotlib.pyplot as plt\n",
        "arr=np.arange(-3.14,3.14,0.05)\n",
        "arr"
      ],
      "metadata": {
        "colab": {
          "base_uri": "https://localhost:8080/"
        },
        "id": "vlp0LuqEfEU1",
        "outputId": "0a826444-7f64-481e-a6d5-47d923c95371"
      },
      "execution_count": 94,
      "outputs": [
        {
          "output_type": "execute_result",
          "data": {
            "text/plain": [
              "array([-3.14, -3.09, -3.04, -2.99, -2.94, -2.89, -2.84, -2.79, -2.74,\n",
              "       -2.69, -2.64, -2.59, -2.54, -2.49, -2.44, -2.39, -2.34, -2.29,\n",
              "       -2.24, -2.19, -2.14, -2.09, -2.04, -1.99, -1.94, -1.89, -1.84,\n",
              "       -1.79, -1.74, -1.69, -1.64, -1.59, -1.54, -1.49, -1.44, -1.39,\n",
              "       -1.34, -1.29, -1.24, -1.19, -1.14, -1.09, -1.04, -0.99, -0.94,\n",
              "       -0.89, -0.84, -0.79, -0.74, -0.69, -0.64, -0.59, -0.54, -0.49,\n",
              "       -0.44, -0.39, -0.34, -0.29, -0.24, -0.19, -0.14, -0.09, -0.04,\n",
              "        0.01,  0.06,  0.11,  0.16,  0.21,  0.26,  0.31,  0.36,  0.41,\n",
              "        0.46,  0.51,  0.56,  0.61,  0.66,  0.71,  0.76,  0.81,  0.86,\n",
              "        0.91,  0.96,  1.01,  1.06,  1.11,  1.16,  1.21,  1.26,  1.31,\n",
              "        1.36,  1.41,  1.46,  1.51,  1.56,  1.61,  1.66,  1.71,  1.76,\n",
              "        1.81,  1.86,  1.91,  1.96,  2.01,  2.06,  2.11,  2.16,  2.21,\n",
              "        2.26,  2.31,  2.36,  2.41,  2.46,  2.51,  2.56,  2.61,  2.66,\n",
              "        2.71,  2.76,  2.81,  2.86,  2.91,  2.96,  3.01,  3.06,  3.11])"
            ]
          },
          "metadata": {},
          "execution_count": 94
        }
      ]
    },
    {
      "cell_type": "code",
      "source": [
        "plt.plot(np.sin(arr))\n",
        "plt.xlabel(\"radian \")\n",
        "plt.ylabel(\" values\")\n",
        "plt.title(\"Sin curve graph\")"
      ],
      "metadata": {
        "colab": {
          "base_uri": "https://localhost:8080/",
          "height": 489
        },
        "id": "dlYy8bUYg8LI",
        "outputId": "0a28c9ad-41a0-4646-f6b5-572a92cc77e7"
      },
      "execution_count": 100,
      "outputs": [
        {
          "output_type": "execute_result",
          "data": {
            "text/plain": [
              "Text(0.5, 1.0, 'Sin curve graph')"
            ]
          },
          "metadata": {},
          "execution_count": 100
        },
        {
          "output_type": "display_data",
          "data": {
            "text/plain": [
              "<Figure size 640x480 with 1 Axes>"
            ],
            "image/png": "[encoded data removed]"
          },
          "metadata": {}
        }
      ]
    },
    {
      "cell_type": "code",
      "source": [
        "mat1"
      ],
      "metadata": {
        "colab": {
          "base_uri": "https://localhost:8080/"
        },
        "id": "ZJ67g8RphCB0",
        "outputId": "18c48afa-452e-4bcb-a270-81dbcd9d1f53"
      },
      "execution_count": 101,
      "outputs": [
        {
          "output_type": "execute_result",
          "data": {
            "text/plain": [
              "array([[10, 20, 30],\n",
              "       [40, 50, 60],\n",
              "       [70, 80, 90]])"
            ]
          },
          "metadata": {},
          "execution_count": 101
        }
      ]
    },
    {
      "cell_type": "code",
      "source": [
        "# fancy indexing  arrayname[[rowindex],[columnindex]] , arrayname[[rind1,rind2,rind3...rindn],[cind1,cind2,cind3...,cindn]]\n",
        "print(\"fancy indexing\")\n",
        "print(mat1[[0,1,2,1],[1,0,1,2]])\n",
        "print(mat1[[0,1,2,1,0,1,0],[1,0,1,2,2,1,0]])"
      ],
      "metadata": {
        "colab": {
          "base_uri": "https://localhost:8080/"
        },
        "id": "lQ7u4Y5SliYX",
        "outputId": "dd07dba3-edbb-4f79-bb57-2107fe3e77cf"
      },
      "execution_count": 106,
      "outputs": [
        {
          "output_type": "stream",
          "name": "stdout",
          "text": [
            "fancy indexing\n",
            "[20 40 80 60]\n",
            "[20 40 80 60 30 50 10]\n"
          ]
        }
      ]
    },
    {
      "cell_type": "code",
      "source": [
        "arr=np.arange(10,100,10)\n",
        "arr"
      ],
      "metadata": {
        "colab": {
          "base_uri": "https://localhost:8080/"
        },
        "id": "PSGaVYsKlxWp",
        "outputId": "d10221c0-c78e-4a24-ff5e-b1452622a7db"
      },
      "execution_count": 2,
      "outputs": [
        {
          "output_type": "execute_result",
          "data": {
            "text/plain": [
              "array([10, 20, 30, 40, 50, 60, 70, 80, 90])"
            ]
          },
          "metadata": {},
          "execution_count": 2
        }
      ]
    },
    {
      "cell_type": "code",
      "source": [
        "arr=arr.reshape((3,3))\n",
        "arr"
      ],
      "metadata": {
        "colab": {
          "base_uri": "https://localhost:8080/"
        },
        "id": "_ZJqdKEpEDEb",
        "outputId": "75335dae-2643-4eeb-c96f-ba80ad95c887"
      },
      "execution_count": 3,
      "outputs": [
        {
          "output_type": "execute_result",
          "data": {
            "text/plain": [
              "array([[10, 20, 30],\n",
              "       [40, 50, 60],\n",
              "       [70, 80, 90]])"
            ]
          },
          "metadata": {},
          "execution_count": 3
        }
      ]
    },
    {
      "cell_type": "code",
      "source": [
        "print(\"getting middle column\",arr[0: ,1:2])"
      ],
      "metadata": {
        "colab": {
          "base_uri": "https://localhost:8080/"
        },
        "id": "Qlai6FVAEImN",
        "outputId": "d44c2b50-5455-4f29-932b-2b102b88c06a"
      },
      "execution_count": 7,
      "outputs": [
        {
          "output_type": "stream",
          "name": "stdout",
          "text": [
            "getting middle column [[20]\n",
            " [50]\n",
            " [80]]\n"
          ]
        }
      ]
    },
    {
      "cell_type": "code",
      "source": [
        "print(\"getting middle row\",arr[1:2,:])"
      ],
      "metadata": {
        "colab": {
          "base_uri": "https://localhost:8080/"
        },
        "id": "vspX3PJkEVuP",
        "outputId": "8bbcb0a1-1352-43f0-f7e5-6287e0dddcaa"
      },
      "execution_count": 8,
      "outputs": [
        {
          "output_type": "stream",
          "name": "stdout",
          "text": [
            "getting middle row [[40 50 60]]\n"
          ]
        }
      ]
    },
    {
      "cell_type": "code",
      "source": [
        "print(arr[0:2,0:2])"
      ],
      "metadata": {
        "colab": {
          "base_uri": "https://localhost:8080/"
        },
        "id": "EwMzC4O_E-Ww",
        "outputId": "4cbe936f-7525-45eb-d658-ee0b914ce2e9"
      },
      "execution_count": 9,
      "outputs": [
        {
          "output_type": "stream",
          "name": "stdout",
          "text": [
            "[[10 20]\n",
            " [40 50]]\n"
          ]
        }
      ]
    },
    {
      "cell_type": "code",
      "source": [
        "print(arr[0::2,0::2])"
      ],
      "metadata": {
        "colab": {
          "base_uri": "https://localhost:8080/"
        },
        "id": "3RZSCC8qFEWr",
        "outputId": "4b337157-3a3d-4264-f0d8-fc20a720560b"
      },
      "execution_count": 10,
      "outputs": [
        {
          "output_type": "stream",
          "name": "stdout",
          "text": [
            "[[10 30]\n",
            " [70 90]]\n"
          ]
        }
      ]
    },
    {
      "cell_type": "code",
      "source": [
        "print(arr[2::-2,0::2])"
      ],
      "metadata": {
        "colab": {
          "base_uri": "https://localhost:8080/"
        },
        "id": "GHrdtRL9FcTC",
        "outputId": "0a327a92-356d-42c5-f4cb-b503f95b455d"
      },
      "execution_count": 11,
      "outputs": [
        {
          "output_type": "stream",
          "name": "stdout",
          "text": [
            "[[70 90]\n",
            " [10 30]]\n"
          ]
        }
      ]
    },
    {
      "cell_type": "code",
      "source": [
        "print(arr[0::2,2::-2])"
      ],
      "metadata": {
        "colab": {
          "base_uri": "https://localhost:8080/"
        },
        "id": "_Zm0dxNWF9xH",
        "outputId": "d06288fa-48e5-4de6-ea40-8cc3bc8bdc40"
      },
      "execution_count": 12,
      "outputs": [
        {
          "output_type": "stream",
          "name": "stdout",
          "text": [
            "[[30 10]\n",
            " [90 70]]\n"
          ]
        }
      ]
    },
    {
      "cell_type": "code",
      "source": [
        "arr=np.arange(1,82)\n",
        "arr"
      ],
      "metadata": {
        "colab": {
          "base_uri": "https://localhost:8080/"
        },
        "id": "Mlx97EOFGW-_",
        "outputId": "55193db0-07e8-4dd3-d6ba-bd7c30942a2f"
      },
      "execution_count": 13,
      "outputs": [
        {
          "output_type": "execute_result",
          "data": {
            "text/plain": [
              "array([ 1,  2,  3,  4,  5,  6,  7,  8,  9, 10, 11, 12, 13, 14, 15, 16, 17,\n",
              "       18, 19, 20, 21, 22, 23, 24, 25, 26, 27, 28, 29, 30, 31, 32, 33, 34,\n",
              "       35, 36, 37, 38, 39, 40, 41, 42, 43, 44, 45, 46, 47, 48, 49, 50, 51,\n",
              "       52, 53, 54, 55, 56, 57, 58, 59, 60, 61, 62, 63, 64, 65, 66, 67, 68,\n",
              "       69, 70, 71, 72, 73, 74, 75, 76, 77, 78, 79, 80, 81])"
            ]
          },
          "metadata": {},
          "execution_count": 13
        }
      ]
    },
    {
      "cell_type": "code",
      "source": [
        "arr=arr.reshape((9,9))\n",
        "arr"
      ],
      "metadata": {
        "colab": {
          "base_uri": "https://localhost:8080/"
        },
        "id": "v0KkZ3AWN21E",
        "outputId": "ec7db534-6294-4e20-e9c6-a1629fc6438a"
      },
      "execution_count": 14,
      "outputs": [
        {
          "output_type": "execute_result",
          "data": {
            "text/plain": [
              "array([[ 1,  2,  3,  4,  5,  6,  7,  8,  9],\n",
              "       [10, 11, 12, 13, 14, 15, 16, 17, 18],\n",
              "       [19, 20, 21, 22, 23, 24, 25, 26, 27],\n",
              "       [28, 29, 30, 31, 32, 33, 34, 35, 36],\n",
              "       [37, 38, 39, 40, 41, 42, 43, 44, 45],\n",
              "       [46, 47, 48, 49, 50, 51, 52, 53, 54],\n",
              "       [55, 56, 57, 58, 59, 60, 61, 62, 63],\n",
              "       [64, 65, 66, 67, 68, 69, 70, 71, 72],\n",
              "       [73, 74, 75, 76, 77, 78, 79, 80, 81]])"
            ]
          },
          "metadata": {},
          "execution_count": 14
        }
      ]
    },
    {
      "cell_type": "code",
      "source": [
        "rarr=np.random.randint(10,200,(9,9))\n",
        "rarr"
      ],
      "metadata": {
        "colab": {
          "base_uri": "https://localhost:8080/"
        },
        "id": "3C499L2qN9aG",
        "outputId": "347a18fe-dace-4311-d026-52f1f5255a30"
      },
      "execution_count": 15,
      "outputs": [
        {
          "output_type": "execute_result",
          "data": {
            "text/plain": [
              "array([[150, 170, 124, 140, 182, 147, 164,  68, 182],\n",
              "       [118, 144, 164, 108,  87,  69,  15, 181,  34],\n",
              "       [ 30, 112, 199, 166,  19, 159, 110,  61, 143],\n",
              "       [160,  89,  54, 170,  10,  56, 170, 185,  92],\n",
              "       [ 35, 194, 119,  89,  66,  22,  91, 114,  97],\n",
              "       [128,  69, 186, 192, 164, 116, 141,  42,  18],\n",
              "       [134,  19,  39, 112, 164, 149, 148, 110,  51],\n",
              "       [139,  46,  19,  61,  68, 117,  18, 168, 191],\n",
              "       [153,  13, 170,  51,  43, 141, 101, 184,  78]])"
            ]
          },
          "metadata": {},
          "execution_count": 15
        }
      ]
    },
    {
      "cell_type": "code",
      "source": [
        "arr"
      ],
      "metadata": {
        "colab": {
          "base_uri": "https://localhost:8080/"
        },
        "id": "XojNaifJOOS2",
        "outputId": "2a394b39-a7ce-4e2b-8661-eca92a038fc8"
      },
      "execution_count": 16,
      "outputs": [
        {
          "output_type": "execute_result",
          "data": {
            "text/plain": [
              "array([[ 1,  2,  3,  4,  5,  6,  7,  8,  9],\n",
              "       [10, 11, 12, 13, 14, 15, 16, 17, 18],\n",
              "       [19, 20, 21, 22, 23, 24, 25, 26, 27],\n",
              "       [28, 29, 30, 31, 32, 33, 34, 35, 36],\n",
              "       [37, 38, 39, 40, 41, 42, 43, 44, 45],\n",
              "       [46, 47, 48, 49, 50, 51, 52, 53, 54],\n",
              "       [55, 56, 57, 58, 59, 60, 61, 62, 63],\n",
              "       [64, 65, 66, 67, 68, 69, 70, 71, 72],\n",
              "       [73, 74, 75, 76, 77, 78, 79, 80, 81]])"
            ]
          },
          "metadata": {},
          "execution_count": 16
        }
      ]
    },
    {
      "cell_type": "code",
      "source": [
        "m1=arr[0:3,0:3]\n",
        "m2=arr[0:3,3:6]\n",
        "m3=arr[0:3,6:]\n",
        "m4=arr[3:6,0:3]\n",
        "m5=arr[3:6,3:6]\n",
        "m6=arr[3:6,6:]\n",
        "m7=arr[6: ,0:3]\n",
        "m8=arr[6:,3:6]\n",
        "m9=arr[6:,6:]\n"
      ],
      "metadata": {
        "id": "8L10GPEJQopX"
      },
      "execution_count": 24,
      "outputs": []
    },
    {
      "cell_type": "code",
      "source": [
        "listmax=[np.max(m1),np.max(m2),np.max(m3),np.max(m4),np.max(m5),np.max(m6),np.max(m7),np.max(m8),np.max(m9)]\n",
        "listmax"
      ],
      "metadata": {
        "colab": {
          "base_uri": "https://localhost:8080/"
        },
        "id": "Sh86dW9KQtSo",
        "outputId": "822b20fd-35a6-467d-f2ea-aa3f82b82785"
      },
      "execution_count": 26,
      "outputs": [
        {
          "output_type": "execute_result",
          "data": {
            "text/plain": [
              "[21, 24, 27, 48, 51, 54, 75, 78, 81]"
            ]
          },
          "metadata": {},
          "execution_count": 26
        }
      ]
    },
    {
      "cell_type": "code",
      "source": [
        "arr=np.array(listmax).reshape((3,3))\n",
        "arr"
      ],
      "metadata": {
        "colab": {
          "base_uri": "https://localhost:8080/"
        },
        "id": "PhQfzwvVR7fW",
        "outputId": "a2988ed0-f366-4321-dea5-68e221a71322"
      },
      "execution_count": 27,
      "outputs": [
        {
          "output_type": "execute_result",
          "data": {
            "text/plain": [
              "array([[21, 24, 27],\n",
              "       [48, 51, 54],\n",
              "       [75, 78, 81]])"
            ]
          },
          "metadata": {},
          "execution_count": 27
        }
      ]
    },
    {
      "cell_type": "code",
      "source": [
        "# append\n",
        "m1=np.arange(1,10)\n",
        "m1"
      ],
      "metadata": {
        "colab": {
          "base_uri": "https://localhost:8080/"
        },
        "id": "p2kdCBaxSM5R",
        "outputId": "ca8f7eaf-a055-4f89-96cd-82edec5f16c0"
      },
      "execution_count": 28,
      "outputs": [
        {
          "output_type": "execute_result",
          "data": {
            "text/plain": [
              "array([1, 2, 3, 4, 5, 6, 7, 8, 9])"
            ]
          },
          "metadata": {},
          "execution_count": 28
        }
      ]
    },
    {
      "cell_type": "code",
      "source": [
        "m2=np.full((3,3),5)\n",
        "m2"
      ],
      "metadata": {
        "colab": {
          "base_uri": "https://localhost:8080/"
        },
        "id": "uwpY2NuJVT9x",
        "outputId": "ddb9f586-3806-42dd-c175-3f8aa56dea97"
      },
      "execution_count": 29,
      "outputs": [
        {
          "output_type": "execute_result",
          "data": {
            "text/plain": [
              "array([[5, 5, 5],\n",
              "       [5, 5, 5],\n",
              "       [5, 5, 5]])"
            ]
          },
          "metadata": {},
          "execution_count": 29
        }
      ]
    },
    {
      "cell_type": "code",
      "source": [
        "# append(arr, values, axis=None)\n",
        "#Append values to the end of an array."
      ],
      "metadata": {
        "id": "0sDCvorVWSrH"
      },
      "execution_count": null,
      "outputs": []
    },
    {
      "cell_type": "code",
      "source": [
        "np.append(m2,m1)"
      ],
      "metadata": {
        "colab": {
          "base_uri": "https://localhost:8080/"
        },
        "id": "jBeuxPp2VaPv",
        "outputId": "259158e8-c8f1-4cd8-8942-50ea9f45b5f1"
      },
      "execution_count": 33,
      "outputs": [
        {
          "output_type": "execute_result",
          "data": {
            "text/plain": [
              "array([5, 5, 5, 5, 5, 5, 5, 5, 5, 1, 2, 3, 4, 5, 6, 7, 8, 9])"
            ]
          },
          "metadata": {},
          "execution_count": 33
        }
      ]
    },
    {
      "cell_type": "code",
      "source": [
        "np.append(m2,m1,axis=1)  # all the input arrays must have same number of dimensions"
      ],
      "metadata": {
        "colab": {
          "base_uri": "https://localhost:8080/",
          "height": 224
        },
        "id": "yVuqzOqXVfgT",
        "outputId": "4755e02d-d95d-447d-bd97-01e4e6c3992f"
      },
      "execution_count": 34,
      "outputs": [
        {
          "output_type": "error",
          "ename": "ValueError",
          "evalue": "ignored",
          "traceback": [
            "\u001b[0;31m---------------------------------------------------------------------------\u001b[0m",
            "\u001b[0;31mValueError\u001b[0m                                Traceback (most recent call last)",
            "\u001b[0;32m<ipython-input-34-50e10df9198c>\u001b[0m in \u001b[0;36m<cell line: 1>\u001b[0;34m()\u001b[0m\n\u001b[0;32m----> 1\u001b[0;31m \u001b[0mnp\u001b[0m\u001b[0;34m.\u001b[0m\u001b[0mappend\u001b[0m\u001b[0;34m(\u001b[0m\u001b[0mm2\u001b[0m\u001b[0;34m,\u001b[0m\u001b[0mm1\u001b[0m\u001b[0;34m,\u001b[0m\u001b[0maxis\u001b[0m\u001b[0;34m=\u001b[0m\u001b[0;36m1\u001b[0m\u001b[0;34m)\u001b[0m\u001b[0;34m\u001b[0m\u001b[0;34m\u001b[0m\u001b[0m\n\u001b[0m",
            "\u001b[0;32m/usr/local/lib/python3.10/dist-packages/numpy/core/overrides.py\u001b[0m in \u001b[0;36mappend\u001b[0;34m(*args, **kwargs)\u001b[0m\n",
            "\u001b[0;32m/usr/local/lib/python3.10/dist-packages/numpy/lib/function_base.py\u001b[0m in \u001b[0;36mappend\u001b[0;34m(arr, values, axis)\u001b[0m\n\u001b[1;32m   5390\u001b[0m         \u001b[0mvalues\u001b[0m \u001b[0;34m=\u001b[0m \u001b[0mravel\u001b[0m\u001b[0;34m(\u001b[0m\u001b[0mvalues\u001b[0m\u001b[0;34m)\u001b[0m\u001b[0;34m\u001b[0m\u001b[0;34m\u001b[0m\u001b[0m\n\u001b[1;32m   5391\u001b[0m         \u001b[0maxis\u001b[0m \u001b[0;34m=\u001b[0m \u001b[0marr\u001b[0m\u001b[0;34m.\u001b[0m\u001b[0mndim\u001b[0m\u001b[0;34m-\u001b[0m\u001b[0;36m1\u001b[0m\u001b[0;34m\u001b[0m\u001b[0;34m\u001b[0m\u001b[0m\n\u001b[0;32m-> 5392\u001b[0;31m     \u001b[0;32mreturn\u001b[0m \u001b[0mconcatenate\u001b[0m\u001b[0;34m(\u001b[0m\u001b[0;34m(\u001b[0m\u001b[0marr\u001b[0m\u001b[0;34m,\u001b[0m \u001b[0mvalues\u001b[0m\u001b[0;34m)\u001b[0m\u001b[0;34m,\u001b[0m \u001b[0maxis\u001b[0m\u001b[0;34m=\u001b[0m\u001b[0maxis\u001b[0m\u001b[0;34m)\u001b[0m\u001b[0;34m\u001b[0m\u001b[0;34m\u001b[0m\u001b[0m\n\u001b[0m\u001b[1;32m   5393\u001b[0m \u001b[0;34m\u001b[0m\u001b[0m\n\u001b[1;32m   5394\u001b[0m \u001b[0;34m\u001b[0m\u001b[0m\n",
            "\u001b[0;32m/usr/local/lib/python3.10/dist-packages/numpy/core/overrides.py\u001b[0m in \u001b[0;36mconcatenate\u001b[0;34m(*args, **kwargs)\u001b[0m\n",
            "\u001b[0;31mValueError\u001b[0m: all the input arrays must have same number of dimensions, but the array at index 0 has 2 dimension(s) and the array at index 1 has 1 dimension(s)"
          ]
        }
      ]
    },
    {
      "cell_type": "code",
      "source": [
        "m3=np.full((3,3),11)\n",
        "m3"
      ],
      "metadata": {
        "colab": {
          "base_uri": "https://localhost:8080/"
        },
        "id": "mAUaogXvWivk",
        "outputId": "2b67989e-ce94-4bd0-e425-cee460db471c"
      },
      "execution_count": 35,
      "outputs": [
        {
          "output_type": "execute_result",
          "data": {
            "text/plain": [
              "array([[11, 11, 11],\n",
              "       [11, 11, 11],\n",
              "       [11, 11, 11]])"
            ]
          },
          "metadata": {},
          "execution_count": 35
        }
      ]
    },
    {
      "cell_type": "code",
      "source": [
        "happend=np.append(m2,m3,axis=1)  # append horizonatly\n",
        "print(happend)"
      ],
      "metadata": {
        "colab": {
          "base_uri": "https://localhost:8080/"
        },
        "id": "LlP296P0W0FR",
        "outputId": "7a3d31a4-bd24-4da6-f718-76fa8dbd4f3c"
      },
      "execution_count": 39,
      "outputs": [
        {
          "output_type": "stream",
          "name": "stdout",
          "text": [
            "[[ 5  5  5 11 11 11]\n",
            " [ 5  5  5 11 11 11]\n",
            " [ 5  5  5 11 11 11]]\n"
          ]
        }
      ]
    },
    {
      "cell_type": "code",
      "source": [
        "vappend=np.append(m2,m3,axis=0) # append vertically\n",
        "print(vappend)"
      ],
      "metadata": {
        "colab": {
          "base_uri": "https://localhost:8080/"
        },
        "id": "6ABnHnTFW4jU",
        "outputId": "6cfa55c0-2a49-43e7-9376-7aacaa0c5ba5"
      },
      "execution_count": 40,
      "outputs": [
        {
          "output_type": "stream",
          "name": "stdout",
          "text": [
            "[[ 5  5  5]\n",
            " [ 5  5  5]\n",
            " [ 5  5  5]\n",
            " [11 11 11]\n",
            " [11 11 11]\n",
            " [11 11 11]]\n"
          ]
        }
      ]
    },
    {
      "cell_type": "code",
      "source": [
        "# vstack(tup) stack arrays in sequence vertically (row wise)\n",
        "np.vstack((m2,m3))"
      ],
      "metadata": {
        "colab": {
          "base_uri": "https://localhost:8080/"
        },
        "id": "XLO4JeawXG6O",
        "outputId": "74b6ec74-81c1-4b78-beaf-ab12a662eec0"
      },
      "execution_count": 44,
      "outputs": [
        {
          "output_type": "execute_result",
          "data": {
            "text/plain": [
              "array([[ 5,  5,  5],\n",
              "       [ 5,  5,  5],\n",
              "       [ 5,  5,  5],\n",
              "       [11, 11, 11],\n",
              "       [11, 11, 11],\n",
              "       [11, 11, 11]])"
            ]
          },
          "metadata": {},
          "execution_count": 44
        }
      ]
    },
    {
      "cell_type": "code",
      "source": [
        "np.hstack((m2,m3))  # Stack arrays in sequence horizontally (column wise"
      ],
      "metadata": {
        "colab": {
          "base_uri": "https://localhost:8080/"
        },
        "id": "BZE4n2PEXytk",
        "outputId": "ce199d4e-89c9-40c7-9898-1f6545065b23"
      },
      "execution_count": 45,
      "outputs": [
        {
          "output_type": "execute_result",
          "data": {
            "text/plain": [
              "array([[ 5,  5,  5, 11, 11, 11],\n",
              "       [ 5,  5,  5, 11, 11, 11],\n",
              "       [ 5,  5,  5, 11, 11, 11]])"
            ]
          },
          "metadata": {},
          "execution_count": 45
        }
      ]
    },
    {
      "cell_type": "code",
      "source": [
        "np.r_[m2,m3] # tack arrays in sequence vertically (row wise)"
      ],
      "metadata": {
        "colab": {
          "base_uri": "https://localhost:8080/"
        },
        "id": "9KOfTCL5Yakn",
        "outputId": "34bd94fa-bcf0-4d9d-fac9-a87eefd472d5"
      },
      "execution_count": 46,
      "outputs": [
        {
          "output_type": "execute_result",
          "data": {
            "text/plain": [
              "array([[ 5,  5,  5],\n",
              "       [ 5,  5,  5],\n",
              "       [ 5,  5,  5],\n",
              "       [11, 11, 11],\n",
              "       [11, 11, 11],\n",
              "       [11, 11, 11]])"
            ]
          },
          "metadata": {},
          "execution_count": 46
        }
      ]
    },
    {
      "cell_type": "code",
      "source": [
        "np.c_[m2,m3] # Stack arrays in sequence horizontally (column wise"
      ],
      "metadata": {
        "colab": {
          "base_uri": "https://localhost:8080/"
        },
        "id": "bPsASAuSYkey",
        "outputId": "61dec310-7013-4f55-e94e-2e45db6a3fb4"
      },
      "execution_count": 47,
      "outputs": [
        {
          "output_type": "execute_result",
          "data": {
            "text/plain": [
              "array([[ 5,  5,  5, 11, 11, 11],\n",
              "       [ 5,  5,  5, 11, 11, 11],\n",
              "       [ 5,  5,  5, 11, 11, 11]])"
            ]
          },
          "metadata": {},
          "execution_count": 47
        }
      ]
    },
    {
      "cell_type": "code",
      "source": [
        "m4=np.full((3,3),2)\n",
        "m4"
      ],
      "metadata": {
        "colab": {
          "base_uri": "https://localhost:8080/"
        },
        "id": "fBhhoyXtYuEW",
        "outputId": "5096cd78-579c-49cb-d46e-c9574de59a9f"
      },
      "execution_count": 48,
      "outputs": [
        {
          "output_type": "execute_result",
          "data": {
            "text/plain": [
              "array([[2, 2, 2],\n",
              "       [2, 2, 2],\n",
              "       [2, 2, 2]])"
            ]
          },
          "metadata": {},
          "execution_count": 48
        }
      ]
    },
    {
      "cell_type": "code",
      "source": [
        "np.r_[m2,m3,m4]"
      ],
      "metadata": {
        "colab": {
          "base_uri": "https://localhost:8080/"
        },
        "id": "JhECcZnzZlha",
        "outputId": "63a9e68d-c495-4f5f-ede0-f5e2601ccf02"
      },
      "execution_count": 49,
      "outputs": [
        {
          "output_type": "execute_result",
          "data": {
            "text/plain": [
              "array([[ 5,  5,  5],\n",
              "       [ 5,  5,  5],\n",
              "       [ 5,  5,  5],\n",
              "       [11, 11, 11],\n",
              "       [11, 11, 11],\n",
              "       [11, 11, 11],\n",
              "       [ 2,  2,  2],\n",
              "       [ 2,  2,  2],\n",
              "       [ 2,  2,  2]])"
            ]
          },
          "metadata": {},
          "execution_count": 49
        }
      ]
    },
    {
      "cell_type": "code",
      "source": [
        "# def insert(arr, obj, values, axis=None)\n",
        "#Insert values along the given axis before the given indices."
      ],
      "metadata": {
        "id": "IZjRgPeMZp-p"
      },
      "execution_count": null,
      "outputs": []
    },
    {
      "cell_type": "code",
      "source": [
        "m2"
      ],
      "metadata": {
        "colab": {
          "base_uri": "https://localhost:8080/"
        },
        "id": "Ffh69gZ9i3eD",
        "outputId": "b51d2921-ca4e-409b-e931-2cf772ac6fde"
      },
      "execution_count": 50,
      "outputs": [
        {
          "output_type": "execute_result",
          "data": {
            "text/plain": [
              "array([[5, 5, 5],\n",
              "       [5, 5, 5],\n",
              "       [5, 5, 5]])"
            ]
          },
          "metadata": {},
          "execution_count": 50
        }
      ]
    },
    {
      "cell_type": "code",
      "source": [
        "np.insert(m2,1,np.array([100,200,300]))"
      ],
      "metadata": {
        "colab": {
          "base_uri": "https://localhost:8080/"
        },
        "id": "6J5_ObQHi3ux",
        "outputId": "8f871375-3dca-45bb-f629-90edabcfe4f6"
      },
      "execution_count": 52,
      "outputs": [
        {
          "output_type": "execute_result",
          "data": {
            "text/plain": [
              "array([  5, 100, 200, 300,   5,   5,   5,   5,   5,   5,   5,   5])"
            ]
          },
          "metadata": {},
          "execution_count": 52
        }
      ]
    },
    {
      "cell_type": "code",
      "source": [
        "np.insert(m2,1,500)"
      ],
      "metadata": {
        "colab": {
          "base_uri": "https://localhost:8080/"
        },
        "id": "jbtQVkSDi4D2",
        "outputId": "2bb944cd-e98a-45cd-a351-c7761623575a"
      },
      "execution_count": 54,
      "outputs": [
        {
          "output_type": "execute_result",
          "data": {
            "text/plain": [
              "10"
            ]
          },
          "metadata": {},
          "execution_count": 54
        }
      ]
    },
    {
      "cell_type": "code",
      "source": [
        "m3"
      ],
      "metadata": {
        "colab": {
          "base_uri": "https://localhost:8080/"
        },
        "id": "lahd_B5ki4WF",
        "outputId": "80e46dae-307f-47ba-b06e-2e711c28a2f1"
      },
      "execution_count": 55,
      "outputs": [
        {
          "output_type": "execute_result",
          "data": {
            "text/plain": [
              "array([[11, 11, 11],\n",
              "       [11, 11, 11],\n",
              "       [11, 11, 11]])"
            ]
          },
          "metadata": {},
          "execution_count": 55
        }
      ]
    },
    {
      "cell_type": "code",
      "source": [
        "np.insert(m2,1,m3,axis=1)  # insert values of m3 at col1 of matrix m2"
      ],
      "metadata": {
        "colab": {
          "base_uri": "https://localhost:8080/"
        },
        "id": "orRXdPfwjpdX",
        "outputId": "7da5740f-a1ee-4c42-fd1b-75f1f238c48d"
      },
      "execution_count": 56,
      "outputs": [
        {
          "output_type": "execute_result",
          "data": {
            "text/plain": [
              "array([[ 5, 11, 11, 11,  5,  5],\n",
              "       [ 5, 11, 11, 11,  5,  5],\n",
              "       [ 5, 11, 11, 11,  5,  5]])"
            ]
          },
          "metadata": {},
          "execution_count": 56
        }
      ]
    },
    {
      "cell_type": "code",
      "source": [
        "np.insert(m2,1,m3,axis=0)"
      ],
      "metadata": {
        "colab": {
          "base_uri": "https://localhost:8080/"
        },
        "id": "dlTnY6_Kj13s",
        "outputId": "100656a4-9ffd-4a97-9e13-31de039b3f13"
      },
      "execution_count": 57,
      "outputs": [
        {
          "output_type": "execute_result",
          "data": {
            "text/plain": [
              "array([[ 5,  5,  5],\n",
              "       [11, 11, 11],\n",
              "       [11, 11, 11],\n",
              "       [11, 11, 11],\n",
              "       [ 5,  5,  5],\n",
              "       [ 5,  5,  5]])"
            ]
          },
          "metadata": {},
          "execution_count": 57
        }
      ]
    },
    {
      "cell_type": "code",
      "source": [
        "#def delete(arr, obj, axis=None)\n",
        "\n",
        "#Return a new array with sub-arrays along an axis deleted. For a one\n",
        "#dimensional array, this returns those entries not returned by"
      ],
      "metadata": {
        "id": "lRwUcVWrj_Hi"
      },
      "execution_count": null,
      "outputs": []
    },
    {
      "cell_type": "code",
      "source": [
        "m5=np.random.randint(10,100,(3,3))\n",
        "m5"
      ],
      "metadata": {
        "colab": {
          "base_uri": "https://localhost:8080/"
        },
        "id": "T4x-V1aRkn-I",
        "outputId": "420a7173-6001-4650-9926-a37fbe8e6f53"
      },
      "execution_count": 60,
      "outputs": [
        {
          "output_type": "execute_result",
          "data": {
            "text/plain": [
              "array([[72, 19, 26],\n",
              "       [44, 31, 60],\n",
              "       [59, 30, 47]])"
            ]
          },
          "metadata": {},
          "execution_count": 60
        }
      ]
    },
    {
      "cell_type": "code",
      "source": [
        "darr=np.delete(m5,2)\n",
        "print(\"array after deletion of value at index 2\")\n",
        "print(darr)"
      ],
      "metadata": {
        "colab": {
          "base_uri": "https://localhost:8080/"
        },
        "id": "JGd754GekoOP",
        "outputId": "0d8e4a28-7771-4643-e815-c155f5e7fdfe"
      },
      "execution_count": 62,
      "outputs": [
        {
          "output_type": "stream",
          "name": "stdout",
          "text": [
            "array after deletion of value at index 2\n",
            "[72 19 44 31 60 59 30 47]\n"
          ]
        }
      ]
    },
    {
      "cell_type": "code",
      "source": [
        "darr1 = np.delete(m5,1,axis=1)\n",
        "print(\"array after deletion of horizontally of position 1\")\n",
        "print(darr1)"
      ],
      "metadata": {
        "colab": {
          "base_uri": "https://localhost:8080/"
        },
        "id": "-ShT70o0koeg",
        "outputId": "9e07d888-09e9-4120-dfbd-2653f68d13b2"
      },
      "execution_count": 65,
      "outputs": [
        {
          "output_type": "stream",
          "name": "stdout",
          "text": [
            "array after deletion of horizontally of position 2\n",
            "[[72 26]\n",
            " [44 60]\n",
            " [59 47]]\n"
          ]
        }
      ]
    },
    {
      "cell_type": "code",
      "source": [
        "darr2 = np.delete(m5,1,axis=0)\n",
        "print(\"array after deletion of vertically of position 1 , row of 1 index will be emoved\")\n",
        "print(darr2)"
      ],
      "metadata": {
        "colab": {
          "base_uri": "https://localhost:8080/"
        },
        "id": "SGnRoTgjlY65",
        "outputId": "98805b66-5da2-4185-a74c-d9f5648b1d71"
      },
      "execution_count": 68,
      "outputs": [
        {
          "output_type": "stream",
          "name": "stdout",
          "text": [
            "array after deletion of vertically of position 1 , row of 1 index will be emoved\n",
            "[[72 19 26]\n",
            " [59 30 47]]\n"
          ]
        }
      ]
    },
    {
      "cell_type": "code",
      "source": [
        "m5"
      ],
      "metadata": {
        "colab": {
          "base_uri": "https://localhost:8080/"
        },
        "id": "EIg8dACBlwhT",
        "outputId": "3e6f1558-0dc7-44a2-be63-7647fdc64481"
      },
      "execution_count": 69,
      "outputs": [
        {
          "output_type": "execute_result",
          "data": {
            "text/plain": [
              "array([[72, 19, 26],\n",
              "       [44, 31, 60],\n",
              "       [59, 30, 47]])"
            ]
          },
          "metadata": {},
          "execution_count": 69
        }
      ]
    },
    {
      "cell_type": "markdown",
      "source": [],
      "metadata": {
        "id": "8czPLDGjqhi2"
      }
    },
    {
      "cell_type": "code",
      "source": [
        "np.savetxt(\"myarray.txt\",m5,fmt=\"%.2f\",comments='file created by aayush',delimiter=' ',header='car sales' )"
      ],
      "metadata": {
        "id": "LaQZgLOEpdC2"
      },
      "execution_count": 82,
      "outputs": []
    },
    {
      "cell_type": "code",
      "source": [
        "\n",
        "data=np.loadtxt(\"myarray.txt\",skiprows=1)\n",
        "print(data)"
      ],
      "metadata": {
        "colab": {
          "base_uri": "https://localhost:8080/"
        },
        "id": "Tm5KazO0psVn",
        "outputId": "80c887c7-3c39-474c-c3e1-7ab55e4c76e6"
      },
      "execution_count": 90,
      "outputs": [
        {
          "output_type": "stream",
          "name": "stdout",
          "text": [
            "[[72. 19. 26.]\n",
            " [44. 31. 60.]\n",
            " [59. 30. 47.]]\n"
          ]
        }
      ]
    },
    {
      "cell_type": "code",
      "source": [
        "data[0:,1:2]"
      ],
      "metadata": {
        "colab": {
          "base_uri": "https://localhost:8080/"
        },
        "id": "BsFmE43nrndo",
        "outputId": "a4988e99-869a-437e-f311-ce79eaeaaedc"
      },
      "execution_count": 91,
      "outputs": [
        {
          "output_type": "execute_result",
          "data": {
            "text/plain": [
              "array([[19.],\n",
              "       [31.],\n",
              "       [30.]])"
            ]
          },
          "metadata": {},
          "execution_count": 91
        }
      ]
    },
    {
      "cell_type": "code",
      "source": [
        "audi,bmw,maruti=np.loadtxt(\"myarray.txt\",skiprows=1,unpack=True)\n",
        "print(audi)\n",
        "print(bmw)\n",
        "print(maruti)"
      ],
      "metadata": {
        "colab": {
          "base_uri": "https://localhost:8080/"
        },
        "id": "AVIvOUYPs11x",
        "outputId": "be595a27-6f50-4c5d-c555-2750d3522fb6"
      },
      "execution_count": 94,
      "outputs": [
        {
          "output_type": "stream",
          "name": "stdout",
          "text": [
            "[72. 44. 59.]\n",
            "[19. 31. 30.]\n",
            "[26. 60. 47.]\n"
          ]
        }
      ]
    },
    {
      "cell_type": "code",
      "source": [],
      "metadata": {
        "id": "CeoiefCJtGoP"
      },
      "execution_count": null,
      "outputs": []
    }
  ]
}